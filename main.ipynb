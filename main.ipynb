{
 "cells": [
  {
   "cell_type": "code",
   "execution_count": 13,
   "metadata": {},
   "outputs": [],
   "source": [
    "#Importing the libraries\n",
    "import pandas as pd\n",
    "import numpy as np\n",
    "import matplotlib.pyplot as plt\n",
    "import seaborn as sns\n",
    "import plotly.express as px"
   ]
  },
  {
   "cell_type": "code",
   "execution_count": 14,
   "metadata": {},
   "outputs": [
    {
     "name": "stdout",
     "output_type": "stream",
     "text": [
      "Dataset URL: https://www.kaggle.com/datasets/rohan0301/unsupervised-learning-on-country-data\n",
      "License(s): MIT\n",
      "unsupervised-learning-on-country-data.zip: Skipping, found more recently modified local copy (use --force to force download)\n"
     ]
    },
    {
     "name": "stderr",
     "output_type": "stream",
     "text": [
      "\"unzip\" no se reconoce como un comando interno o externo,\n",
      "programa o archivo por lotes ejecutable.\n"
     ]
    }
   ],
   "source": [
    "!kaggle datasets download -d rohan0301/unsupervised-learning-on-country-data\n",
    "!unzip unsupervised-learning-on-country-data.zip"
   ]
  },
  {
   "cell_type": "code",
   "execution_count": 15,
   "metadata": {},
   "outputs": [],
   "source": [
    "import os\n",
    "from zipfile import ZipFile\n",
    "\n",
    "# Download the dataset\n",
    "os.system('kaggle datasets download -d rohan0301/unsupervised-learning-on-country-data')\n",
    "\n",
    "# Unzip the downloaded dataset\n",
    "with ZipFile('unsupervised-learning-on-country-data.zip', 'r') as zip_ref:\n",
    "    zip_ref.extractall()\n"
   ]
  },
  {
   "cell_type": "code",
   "execution_count": 16,
   "metadata": {},
   "outputs": [
    {
     "name": "stdout",
     "output_type": "stream",
     "text": [
      "               country  child_mort  exports  health  imports  income  \\\n",
      "0          Afghanistan        90.2     10.0    7.58     44.9    1610   \n",
      "1              Albania        16.6     28.0    6.55     48.6    9930   \n",
      "2              Algeria        27.3     38.4    4.17     31.4   12900   \n",
      "3               Angola       119.0     62.3    2.85     42.9    5900   \n",
      "4  Antigua and Barbuda        10.3     45.5    6.03     58.9   19100   \n",
      "\n",
      "   inflation  life_expec  total_fer   gdpp  \n",
      "0       9.44        56.2       5.82    553  \n",
      "1       4.49        76.3       1.65   4090  \n",
      "2      16.10        76.5       2.89   4460  \n",
      "3      22.40        60.1       6.16   3530  \n",
      "4       1.44        76.8       2.13  12200  \n"
     ]
    }
   ],
   "source": [
    "# Load the dataset\n",
    "df = pd.read_csv('Country-data.csv')\n",
    "\n",
    "# Display the first few rows of the dataset\n",
    "print(df.head())"
   ]
  },
  {
   "cell_type": "code",
   "execution_count": 17,
   "metadata": {},
   "outputs": [
    {
     "name": "stdout",
     "output_type": "stream",
     "text": [
      "Missing values in each column:\n",
      " country       0\n",
      "child_mort    0\n",
      "exports       0\n",
      "health        0\n",
      "imports       0\n",
      "income        0\n",
      "inflation     0\n",
      "life_expec    0\n",
      "total_fer     0\n",
      "gdpp          0\n",
      "dtype: int64\n",
      "Number of duplicate rows: 0\n",
      "               country  child_mort  exports  health  imports  income  \\\n",
      "0          Afghanistan        90.2     10.0    7.58     44.9    1610   \n",
      "1              Albania        16.6     28.0    6.55     48.6    9930   \n",
      "2              Algeria        27.3     38.4    4.17     31.4   12900   \n",
      "3               Angola       119.0     62.3    2.85     42.9    5900   \n",
      "4  Antigua and Barbuda        10.3     45.5    6.03     58.9   19100   \n",
      "\n",
      "   inflation  life_expec  total_fer   gdpp  \n",
      "0       9.44        56.2       5.82    553  \n",
      "1       4.49        76.3       1.65   4090  \n",
      "2      16.10        76.5       2.89   4460  \n",
      "3      22.40        60.1       6.16   3530  \n",
      "4       1.44        76.8       2.13  12200  \n"
     ]
    }
   ],
   "source": [
    "# Check for missing values\n",
    "missing_values = df.isnull().sum()\n",
    "print(\"Missing values in each column:\\n\", missing_values)\n",
    "\n",
    "# Drop rows with any missing values\n",
    "df_cleaned = df.dropna()\n",
    "\n",
    "# Check for duplicates\n",
    "duplicates = df_cleaned.duplicated().sum()\n",
    "print(\"Number of duplicate rows:\", duplicates)\n",
    "\n",
    "# Drop duplicate rows\n",
    "df_cleaned = df_cleaned.drop_duplicates()\n",
    "\n",
    "# Display the cleaned dataset\n",
    "print(df_cleaned.head())"
   ]
  },
  {
   "cell_type": "code",
   "execution_count": 18,
   "metadata": {},
   "outputs": [
    {
     "name": "stdout",
     "output_type": "stream",
     "text": [
      "               Country  Child Mortality  Exports  Health  Imports  Income  \\\n",
      "0          Afghanistan             90.2     10.0    7.58     44.9    1610   \n",
      "1              Albania             16.6     28.0    6.55     48.6    9930   \n",
      "2              Algeria             27.3     38.4    4.17     31.4   12900   \n",
      "3               Angola            119.0     62.3    2.85     42.9    5900   \n",
      "4  Antigua and Barbuda             10.3     45.5    6.03     58.9   19100   \n",
      "\n",
      "   Inflation  Life Expectancy  Total Fertility  GDP per capita  \n",
      "0       9.44             56.2             5.82             553  \n",
      "1       4.49             76.3             1.65            4090  \n",
      "2      16.10             76.5             2.89            4460  \n",
      "3      22.40             60.1             6.16            3530  \n",
      "4       1.44             76.8             2.13           12200  \n"
     ]
    }
   ],
   "source": [
    "# Rename all columns in df_cleaned\n",
    "df_cleaned.columns = ['Country', 'Child Mortality', 'Exports', 'Health', 'Imports', 'Income', 'Inflation', 'Life Expectancy', 'Total Fertility', 'GDP per capita']\n",
    "\n",
    "# Display the renamed dataframe\n",
    "print(df_cleaned.head())"
   ]
  },
  {
   "cell_type": "code",
   "execution_count": 19,
   "metadata": {},
   "outputs": [
    {
     "name": "stdout",
     "output_type": "stream",
     "text": [
      "       Child Mortality     Exports      Health     Imports         Income  \\\n",
      "count       167.000000  167.000000  167.000000  167.000000     167.000000   \n",
      "mean         38.270060   41.108976    6.815689   46.890215   17144.688623   \n",
      "std          40.328931   27.412010    2.746837   24.209589   19278.067698   \n",
      "min           2.600000    0.109000    1.810000    0.065900     609.000000   \n",
      "25%           8.250000   23.800000    4.920000   30.200000    3355.000000   \n",
      "50%          19.300000   35.000000    6.320000   43.300000    9960.000000   \n",
      "75%          62.100000   51.350000    8.600000   58.750000   22800.000000   \n",
      "max         208.000000  200.000000   17.900000  174.000000  125000.000000   \n",
      "\n",
      "        Inflation  Life Expectancy  Total Fertility  GDP per capita  \n",
      "count  167.000000       167.000000       167.000000      167.000000  \n",
      "mean     7.781832        70.555689         2.947964    12964.155689  \n",
      "std     10.570704         8.893172         1.513848    18328.704809  \n",
      "min     -4.210000        32.100000         1.150000      231.000000  \n",
      "25%      1.810000        65.300000         1.795000     1330.000000  \n",
      "50%      5.390000        73.100000         2.410000     4660.000000  \n",
      "75%     10.750000        76.800000         3.880000    14050.000000  \n",
      "max    104.000000        82.800000         7.490000   105000.000000  \n"
     ]
    }
   ],
   "source": [
    "# Get the summary statistics of the cleaned dataset\n",
    "summary_stats = df_cleaned.describe()\n",
    "print(summary_stats)"
   ]
  }
 ],
 "metadata": {
  "kernelspec": {
   "display_name": "base",
   "language": "python",
   "name": "python3"
  },
  "language_info": {
   "codemirror_mode": {
    "name": "ipython",
    "version": 3
   },
   "file_extension": ".py",
   "mimetype": "text/x-python",
   "name": "python",
   "nbconvert_exporter": "python",
   "pygments_lexer": "ipython3",
   "version": "3.12.4"
  }
 },
 "nbformat": 4,
 "nbformat_minor": 2
}
